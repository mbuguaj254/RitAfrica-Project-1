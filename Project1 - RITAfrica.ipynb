{
 "cells": [
  {
   "cell_type": "markdown",
   "id": "c7bac449-8960-4a93-a3cb-f8aee2f16b44",
   "metadata": {},
   "source": [
    "# Project 1: Customer Feedback Management System - RITAfrica\n",
    "## By *John Mbugua*"
   ]
  },
  {
   "cell_type": "markdown",
   "id": "4fbec7df-89a7-4757-9efd-ab036dfff199",
   "metadata": {},
   "source": [
    "#### Importing libraries"
   ]
  },
  {
   "cell_type": "code",
   "execution_count": 3,
   "id": "14a255e8-6786-4fd8-8cd9-0250fc2881fa",
   "metadata": {},
   "outputs": [],
   "source": [
    "import pandas as pd\n",
    "import csv"
   ]
  },
  {
   "cell_type": "markdown",
   "id": "fd314ce6-4c29-4bc6-8097-a3152649a778",
   "metadata": {},
   "source": [
    "#### Collecting customer 1 Feedback"
   ]
  },
  {
   "cell_type": "code",
   "execution_count": 4,
   "id": "f05df114-058e-4975-bb02-79f2eb87e6f3",
   "metadata": {},
   "outputs": [
    {
     "name": "stdin",
     "output_type": "stream",
     "text": [
      "Enter the first customer's name:  \n",
      "Enter the first customer's rating (1-5):  2\n",
      "Enter the first customer's feedback:  23\n"
     ]
    }
   ],
   "source": [
    "customer_name1 = input(\"Enter the first customer's name: \")\n",
    "customer_rating1 = int(input(\"Enter the first customer's rating (1-5): \"))\n",
    "customer_feedback1 = input(\"Enter the first customer's feedback: \")"
   ]
  },
  {
   "cell_type": "markdown",
   "id": "2f10872f-eb88-4efc-b46f-0526af3a7191",
   "metadata": {},
   "source": [
    "##### Using this sample code, collect 5 customer data"
   ]
  },
  {
   "cell_type": "raw",
   "id": "4416c995-4d27-4307-bedc-b415a7465c8a",
   "metadata": {},
   "source": [
    "with open('customer_feecback.csv, 'w', newline='') as file:\n",
    "    writer = csv.writer(file)\n",
    "    writer.writerow([\"Name\", \"Rating\", \"Feedback\"])\n",
    "    writer.writerow([customer_name1, cusotmer_rating1, customer_feedback1])\n",
    "    writer.writerow([customer_name2, cusotmer_rating2, customer_feedback2])\n",
    "    writer.writerow([customer_name3, cusotmer_rating3, customer_feedback3])\n",
    "    writer.writerow([customer_name4, cusotmer_rating4, customer_feedback4])\n",
    "    writer.writerow([customer_name5, cusotmer_rating5, customer_feedback5])\n",
    "    "
   ]
  },
  {
   "cell_type": "markdown",
   "id": "88e331dc-1c67-4778-9571-94efde9f1840",
   "metadata": {},
   "source": [
    "##### The solution implements this using for loops and the in-built python range() function"
   ]
  },
  {
   "cell_type": "code",
   "execution_count": 12,
   "id": "879cfed3-3f9b-457b-8aa8-ffd71309f864",
   "metadata": {},
   "outputs": [
    {
     "name": "stdout",
     "output_type": "stream",
     "text": [
      "Enter information for customer 1:\n"
     ]
    },
    {
     "name": "stdin",
     "output_type": "stream",
     "text": [
      "Enter the customer 1's name:  Bob\n",
      "Enter the customer 1's rating (1-5):  5\n",
      "Enter the customer 1's feedback:  First try!\n"
     ]
    },
    {
     "name": "stdout",
     "output_type": "stream",
     "text": [
      "Enter information for customer 2:\n"
     ]
    },
    {
     "name": "stdin",
     "output_type": "stream",
     "text": [
      "Enter the customer 2's name:  Bobby\n",
      "Enter the customer 2's rating (1-5):  5\n",
      "Enter the customer 2's feedback:  I already love this!\n"
     ]
    },
    {
     "name": "stdout",
     "output_type": "stream",
     "text": [
      "Enter information for customer 3:\n"
     ]
    },
    {
     "name": "stdin",
     "output_type": "stream",
     "text": [
      "Enter the customer 3's name:  John\n",
      "Enter the customer 3's rating (1-5):  4\n",
      "Enter the customer 3's feedback:  More stuff to come!\n"
     ]
    },
    {
     "name": "stdout",
     "output_type": "stream",
     "text": [
      "Enter information for customer 4:\n"
     ]
    },
    {
     "name": "stdin",
     "output_type": "stream",
     "text": [
      "Enter the customer 4's name:  Jonte\n",
      "Enter the customer 4's rating (1-5):  4\n",
      "Enter the customer 4's feedback:  We finish what we start!\n"
     ]
    },
    {
     "name": "stdout",
     "output_type": "stream",
     "text": [
      "Enter information for customer 5:\n"
     ]
    },
    {
     "name": "stdin",
     "output_type": "stream",
     "text": [
      "Enter the customer 5's name:  Johnny\n",
      "Enter the customer 5's rating (1-5):  5\n",
      "Enter the customer 5's feedback:  Data science vs. cloud ops!\n"
     ]
    },
    {
     "name": "stdout",
     "output_type": "stream",
     "text": [
      "\n",
      "Customer 1:\n",
      "Name: Bob\n",
      "Rating: 5\n",
      "Feedback: First try!\n",
      "\n",
      "Customer 2:\n",
      "Name: Bobby\n",
      "Rating: 5\n",
      "Feedback: I already love this!\n",
      "\n",
      "Customer 3:\n",
      "Name: John\n",
      "Rating: 4\n",
      "Feedback: More stuff to come!\n",
      "\n",
      "Customer 4:\n",
      "Name: Jonte\n",
      "Rating: 4\n",
      "Feedback: We finish what we start!\n",
      "\n",
      "Customer 5:\n",
      "Name: Johnny\n",
      "Rating: 5\n",
      "Feedback: Data science vs. cloud ops!\n"
     ]
    }
   ],
   "source": [
    "def get_customer_info(customer_number):\n",
    "    print(f\"Enter information for customer {customer_number}:\")\n",
    "    \n",
    "    customer_name = input(f\"Enter the customer {customer_number}'s name: \")\n",
    "    \n",
    "    while True:\n",
    "        try:\n",
    "            customer_rating = int(input(f\"Enter the customer {customer_number}'s rating (1-5): \"))\n",
    "            if 1 <= customer_rating <= 5:\n",
    "                break\n",
    "            else:\n",
    "                print(\"Rating must be between 1 and 5.\")\n",
    "        except ValueError:\n",
    "            print(\"Please enter a valid integer for the rating.\")\n",
    "    \n",
    "    customer_feedback = input(f\"Enter the customer {customer_number}'s feedback: \")\n",
    "    \n",
    "    return customer_name, customer_rating, customer_feedback\n",
    "\n",
    "customers = []\n",
    "\n",
    "for i in range(1, 6):\n",
    "    customer_info = get_customer_info(i)\n",
    "    customers.append(customer_info)\n",
    "\n",
    "for i, customer in enumerate(customers, start=1):\n",
    "    print(f\"\\nCustomer {i}:\")\n",
    "    print(\"Name:\", customer[0])\n",
    "    print(\"Rating:\", customer[1])\n",
    "    print(\"Feedback:\", customer[2])\n"
   ]
  },
  {
   "cell_type": "code",
   "execution_count": 1,
   "id": "d9ff93b1-df69-4d0d-b125-fe7421221744",
   "metadata": {},
   "outputs": [
    {
     "name": "stdout",
     "output_type": "stream",
     "text": [
      "Enter information for customer 1:\n"
     ]
    },
    {
     "name": "stdin",
     "output_type": "stream",
     "text": [
      "Enter the customer 1's name:  Bob\n",
      "Enter the customer 1's rating (1-5):  5\n",
      "Enter the customer 1's feedback:  excellent\n"
     ]
    },
    {
     "name": "stdout",
     "output_type": "stream",
     "text": [
      "Enter information for customer 2:\n"
     ]
    },
    {
     "name": "stdin",
     "output_type": "stream",
     "text": [
      "Enter the customer 2's name:  Bobby\n",
      "Enter the customer 2's rating (1-5):  3\n",
      "Enter the customer 2's feedback:  Just ok!\n"
     ]
    },
    {
     "name": "stdout",
     "output_type": "stream",
     "text": [
      "Enter information for customer 3:\n"
     ]
    },
    {
     "name": "stdin",
     "output_type": "stream",
     "text": [
      "Enter the customer 3's name:  Bobb\n",
      "Enter the customer 3's rating (1-5):  4\n",
      "Enter the customer 3's feedback:  Perfecto!\n"
     ]
    },
    {
     "name": "stdout",
     "output_type": "stream",
     "text": [
      "Enter information for customer 4:\n"
     ]
    },
    {
     "name": "stdin",
     "output_type": "stream",
     "text": [
      "Enter the customer 4's name:  Bobbbb\n",
      "Enter the customer 4's rating (1-5):  2\n",
      "Enter the customer 4's feedback:  Not so good!\n"
     ]
    },
    {
     "name": "stdout",
     "output_type": "stream",
     "text": [
      "Enter information for customer 5:\n"
     ]
    },
    {
     "name": "stdin",
     "output_type": "stream",
     "text": [
      "Enter the customer 5's name:  Bobson\n",
      "Enter the customer 5's rating (1-5):  3\n",
      "Enter the customer 5's feedback:  I'm not sure\n"
     ]
    },
    {
     "name": "stdout",
     "output_type": "stream",
     "text": [
      "Customer feedback has been saved to 'customer_feedback.csv'\n",
      "\n",
      "Customer 1:\n",
      "Name: Bob\n",
      "Rating: 5\n",
      "Feedback: excellent\n",
      "\n",
      "Customer 2:\n",
      "Name: Bobby\n",
      "Rating: 3\n",
      "Feedback: Just ok!\n",
      "\n",
      "Customer 3:\n",
      "Name: Bobb\n",
      "Rating: 4\n",
      "Feedback: Perfecto!\n",
      "\n",
      "Customer 4:\n",
      "Name: Bobbbb\n",
      "Rating: 2\n",
      "Feedback: Not so good!\n",
      "\n",
      "Customer 5:\n",
      "Name: Bobson\n",
      "Rating: 3\n",
      "Feedback: I'm not sure\n"
     ]
    }
   ],
   "source": [
    "import csv\n",
    "\n",
    "def get_customer_info(customer_number):\n",
    "    print(f\"Enter information for customer {customer_number}:\")\n",
    "    \n",
    "    customer_name = input(f\"Enter the customer {customer_number}'s name: \")\n",
    "    \n",
    "    while True:\n",
    "        try:\n",
    "            customer_rating = int(input(f\"Enter the customer {customer_number}'s rating (1-5): \"))\n",
    "            if 1 <= customer_rating <= 5:\n",
    "                break\n",
    "            else:\n",
    "                print(\"Rating must be between 1 and 5.\")\n",
    "        except ValueError:\n",
    "            print(\"Please enter a valid integer for the rating.\")\n",
    "    \n",
    "    customer_feedback = input(f\"Enter the customer {customer_number}'s feedback: \")\n",
    "    \n",
    "    return customer_name, customer_rating, customer_feedback\n",
    "\n",
    "customers = []\n",
    "\n",
    "for i in range(1, 6):\n",
    "    customer_info = get_customer_info(i)\n",
    "    customers.append(customer_info)\n",
    "\n",
    "with open('customer_feedback.csv', mode='w', newline='') as file:\n",
    "    writer = csv.writer(file)\n",
    "    writer.writerow([\"Customer Name\", \"Customer Rating\", \"Customer Feedback\"])\n",
    "    writer.writerows(customers)\n",
    "\n",
    "print(\"Customer feedback has been saved to 'customer_feedback.csv'\")\n",
    "\n",
    "# Print out the collected information\n",
    "for i, customer in enumerate(customers, start=1):\n",
    "    print(f\"\\nCustomer {i}:\")\n",
    "    print(\"Name:\", customer[0])\n",
    "    print(\"Rating:\", customer[1])\n",
    "    print(\"Feedback:\", customer[2])\n"
   ]
  },
  {
   "cell_type": "markdown",
   "id": "6ca13fac-231c-447f-8c20-7245ba43a244",
   "metadata": {},
   "source": [
    "### Reading the data with Pandas Library"
   ]
  },
  {
   "cell_type": "code",
   "execution_count": 5,
   "id": "dc4160ea-92d5-4137-9fb1-098a24a98456",
   "metadata": {},
   "outputs": [
    {
     "name": "stdout",
     "output_type": "stream",
     "text": [
      "  Customer Name  Customer Rating Customer Feedback\n",
      "0           Bob                5         excellent\n",
      "1         Bobby                3          Just ok!\n",
      "2          Bobb                4         Perfecto!\n",
      "3        Bobbbb                2      Not so good!\n",
      "4        Bobson                3      I'm not sure\n"
     ]
    }
   ],
   "source": [
    "df = pd.read_csv('customer_feedback.csv')\n",
    "\n",
    "print(df)"
   ]
  },
  {
   "cell_type": "markdown",
   "id": "8d061dc7-93db-4574-8b23-3a1bdbf6f682",
   "metadata": {},
   "source": [
    "Now, display the first few rows and the info of the data:"
   ]
  },
  {
   "cell_type": "code",
   "execution_count": 16,
   "id": "3923a03a-199e-4fdf-86f7-bdbaea253573",
   "metadata": {},
   "outputs": [
    {
     "name": "stdout",
     "output_type": "stream",
     "text": [
      "  Customer Name  Customer Rating            Customer Feedback\n",
      "0           Bob                5                   First try!\n",
      "1         Bobby                5         I already love this!\n",
      "2          John                5          More stuff to come!\n",
      "3         Jonte                4     We finish what we start!\n",
      "4        Johnny                4  Data science vs. cloud ops!\n",
      "<class 'pandas.core.frame.DataFrame'>\n",
      "RangeIndex: 5 entries, 0 to 4\n",
      "Data columns (total 3 columns):\n",
      " #   Column             Non-Null Count  Dtype \n",
      "---  ------             --------------  ----- \n",
      " 0   Customer Name      5 non-null      object\n",
      " 1   Customer Rating    5 non-null      int64 \n",
      " 2   Customer Feedback  5 non-null      object\n",
      "dtypes: int64(1), object(2)\n",
      "memory usage: 248.0+ bytes\n",
      "None\n"
     ]
    }
   ],
   "source": [
    "print(df.head())\n",
    "\n",
    "print(df.info())"
   ]
  },
  {
   "cell_type": "markdown",
   "id": "ccad6590-2cde-4e32-93a0-48d904bc4ecf",
   "metadata": {},
   "source": [
    "#### Performing basic data analysis - Average Rating"
   ]
  },
  {
   "cell_type": "code",
   "execution_count": 6,
   "id": "a0d602c1-a980-4ff0-b797-920005e83864",
   "metadata": {},
   "outputs": [
    {
     "name": "stdout",
     "output_type": "stream",
     "text": [
      "Average Rating: 3.4\n"
     ]
    }
   ],
   "source": [
    "total_ratings = df['Customer Rating'].sum()\n",
    "average_rating = total_ratings / len(df)\n",
    "print(\"Average Rating:\", average_rating)"
   ]
  },
  {
   "cell_type": "markdown",
   "id": "946627b4-dc2b-42f4-97c4-585f8e0bd960",
   "metadata": {},
   "source": [
    "#### Categorizing feedback using if loops"
   ]
  },
  {
   "cell_type": "raw",
   "id": "e09de1cf-9b05-47f0-b394-51665e6ea575",
   "metadata": {},
   "source": [
    "if customer_rating1 >= 4 and \"excellent\" in customer_feedback.lower():\n",
    "    feedback_category1 = \"Very Positive\"\n",
    "elif customer rating1 >= 4:\n",
    "    feedback_category1 = \"Positive\"\n",
    "elif customer_rating1 == 3:\n",
    "    feedback_category1 = \"Neutral\"\n",
    "else:\n",
    "    feedback_category1 = \"Negative\""
   ]
  },
  {
   "cell_type": "markdown",
   "id": "8f6f20ca-c163-408e-8695-eb61030e8c16",
   "metadata": {},
   "source": [
    "##### Solution:"
   ]
  },
  {
   "cell_type": "code",
   "execution_count": 7,
   "id": "eb61417b-1628-47ac-869a-fe5bc8776bf6",
   "metadata": {},
   "outputs": [
    {
     "name": "stdout",
     "output_type": "stream",
     "text": [
      "Enter information for customer 1:\n"
     ]
    },
    {
     "name": "stdin",
     "output_type": "stream",
     "text": [
      "Enter customer 1's name:  Dan\n",
      "Enter customer 1's rating (1-5):  3\n",
      "Enter customer 1's feedback:  not bad\n"
     ]
    },
    {
     "name": "stdout",
     "output_type": "stream",
     "text": [
      "Enter information for customer 2:\n"
     ]
    },
    {
     "name": "stdin",
     "output_type": "stream",
     "text": [
      "Enter customer 2's name:  Danny\n",
      "Enter customer 2's rating (1-5):  5\n",
      "Enter customer 2's feedback:  perfect and excellent\n"
     ]
    },
    {
     "name": "stdout",
     "output_type": "stream",
     "text": [
      "Enter information for customer 3:\n"
     ]
    },
    {
     "name": "stdin",
     "output_type": "stream",
     "text": [
      "Enter customer 3's name:  Dante\n",
      "Enter customer 3's rating (1-5):  4\n",
      "Enter customer 3's feedback:  Perfect\n"
     ]
    },
    {
     "name": "stdout",
     "output_type": "stream",
     "text": [
      "Enter information for customer 4:\n"
     ]
    },
    {
     "name": "stdin",
     "output_type": "stream",
     "text": [
      "Enter customer 4's name:  Daniel\n",
      "Enter customer 4's rating (1-5):  5\n",
      "Enter customer 4's feedback:  excellent\n"
     ]
    },
    {
     "name": "stdout",
     "output_type": "stream",
     "text": [
      "Enter information for customer 5:\n"
     ]
    },
    {
     "name": "stdin",
     "output_type": "stream",
     "text": [
      "Enter customer 5's name:  Danson\n",
      "Enter customer 5's rating (1-5):  4\n",
      "Enter customer 5's feedback:  great\n"
     ]
    },
    {
     "name": "stdout",
     "output_type": "stream",
     "text": [
      "Customer feedback has been saved to 'customer_feedback.csv'\n",
      "\n",
      "Customer 1:\n",
      "Name: Dan\n",
      "Rating: 3\n",
      "Feedback: not bad\n",
      "Category: Neutral\n",
      "\n",
      "Customer 2:\n",
      "Name: Danny\n",
      "Rating: 5\n",
      "Feedback: perfect and excellent\n",
      "Category: Very Positive\n",
      "\n",
      "Customer 3:\n",
      "Name: Dante\n",
      "Rating: 4\n",
      "Feedback: Perfect\n",
      "Category: Positive\n",
      "\n",
      "Customer 4:\n",
      "Name: Daniel\n",
      "Rating: 5\n",
      "Feedback: excellent\n",
      "Category: Very Positive\n",
      "\n",
      "Customer 5:\n",
      "Name: Danson\n",
      "Rating: 4\n",
      "Feedback: great\n",
      "Category: Positive\n"
     ]
    }
   ],
   "source": [
    "import csv\n",
    "\n",
    "def get_customer_info(customer_number):\n",
    "    print(f\"Enter information for customer {customer_number}:\")\n",
    "    \n",
    "    customer_name = input(f\"Enter customer {customer_number}'s name: \")\n",
    "    \n",
    "    while True:\n",
    "        try:\n",
    "            customer_rating = int(input(f\"Enter customer {customer_number}'s rating (1-5): \"))\n",
    "            if 1 <= customer_rating <= 5:\n",
    "                break\n",
    "            else:\n",
    "                print(\"Rating must be between 1 and 5.\")\n",
    "        except ValueError:\n",
    "            print(\"Please enter a valid integer for the rating.\")\n",
    "    \n",
    "    customer_feedback = input(f\"Enter customer {customer_number}'s feedback: \")\n",
    "    \n",
    "    return customer_name, customer_rating, customer_feedback\n",
    "\n",
    "def categorize_feedback(rating, feedback):\n",
    "    feedback_lower = feedback.lower()\n",
    "    if rating >= 4 and \"excellent\" in feedback_lower:\n",
    "        return \"Very Positive\"\n",
    "    elif rating >= 4:\n",
    "        return \"Positive\"\n",
    "    elif rating == 3:\n",
    "        return \"Neutral\"\n",
    "    else:\n",
    "        return \"Negative\"\n",
    "\n",
    "customers = []\n",
    "\n",
    "for i in range(1, 6):\n",
    "    customer_info = get_customer_info(i)\n",
    "    feedback_category = categorize_feedback(customer_info[1], customer_info[2])\n",
    "    customers.append(customer_info + (feedback_category,))\n",
    "\n",
    "with open('customer_feedback.csv', mode='w', newline='') as file:\n",
    "    writer = csv.writer(file)\n",
    "    writer.writerow([\"Customer Name\", \"Customer Rating\", \"Customer Feedback\", \"Feedback Category\"])\n",
    "    writer.writerows(customers)\n",
    "\n",
    "print(\"Customer feedback has been saved to 'customer_feedback.csv'\")\n",
    "\n",
    "# Print out the collected information\n",
    "for i, customer in enumerate(customers, start=1):\n",
    "    print(f\"\\nCustomer {i}:\")\n",
    "    print(\"Name:\", customer[0])\n",
    "    print(\"Rating:\", customer[1])\n",
    "    print(\"Feedback:\", customer[2])\n",
    "    print(\"Category:\", customer[3])\n"
   ]
  },
  {
   "cell_type": "markdown",
   "id": "9fdb0b08-7115-4128-bd75-bf5661076143",
   "metadata": {},
   "source": [
    "#### String manipulation to analyze feedback"
   ]
  },
  {
   "cell_type": "code",
   "execution_count": 16,
   "id": "139af67f-056e-4cf2-abf3-324f1f848ae8",
   "metadata": {},
   "outputs": [
    {
     "name": "stdout",
     "output_type": "stream",
     "text": [
      "  Customer Name  Customer Rating      Customer Feedback Feedback Category\n",
      "0           Dan                3                not bad           Neutral\n",
      "1         Danny                5  perfect and excellent     Very Positive\n",
      "2         Dante                4                Perfect          Positive\n",
      "3        Daniel                5              excellent     Very Positive\n",
      "4        Danson                4                  great          Positive\n",
      "0                  not bad\n",
      "1    perfect and excellent\n",
      "2                  Perfect\n",
      "3                excellent\n",
      "4                    great\n",
      "Name: Customer Feedback, dtype: object\n",
      "<built-in method split of str object at 0x00000218D6484270>\n"
     ]
    },
    {
     "ename": "AttributeError",
     "evalue": "'builtin_function_or_method' object has no attribute 'count'",
     "output_type": "error",
     "traceback": [
      "\u001b[1;31m---------------------------------------------------------------------------\u001b[0m",
      "\u001b[1;31mAttributeError\u001b[0m                            Traceback (most recent call last)",
      "Cell \u001b[1;32mIn[16], line 18\u001b[0m\n\u001b[0;32m     15\u001b[0m \u001b[38;5;66;03m#Counting the occurences of a specific word\u001b[39;00m\n\u001b[0;32m     17\u001b[0m word_to_count \u001b[38;5;241m=\u001b[39m \u001b[38;5;124m'\u001b[39m\u001b[38;5;124mexcellent\u001b[39m\u001b[38;5;124m'\u001b[39m\n\u001b[1;32m---> 18\u001b[0m word_count1 \u001b[38;5;241m=\u001b[39m \u001b[43mfeedback_words1\u001b[49m\u001b[38;5;241;43m.\u001b[39;49m\u001b[43mcount\u001b[49m(word_to_count)\n\u001b[0;32m     19\u001b[0m word_count2 \u001b[38;5;241m=\u001b[39m feedback_words2\u001b[38;5;241m.\u001b[39mcount(word_to_count)\n\u001b[0;32m     20\u001b[0m word_count3 \u001b[38;5;241m=\u001b[39m feedback_words3\u001b[38;5;241m.\u001b[39mcount(word_to_count)\n",
      "\u001b[1;31mAttributeError\u001b[0m: 'builtin_function_or_method' object has no attribute 'count'"
     ]
    }
   ],
   "source": [
    "#Analuzing feedback comments\n",
    "df = pd.read_csv('customer_feedback.csv')\n",
    "print(df)\n",
    "\n",
    "Feedback = df['Customer Feedback']\n",
    "print(Feedback)\n",
    "\n",
    "feedback_words1 = Feedback[0].lower().split\n",
    "print(feedback_words1)\n",
    "feedback_words2 = Feedback[1].lower().split\n",
    "feedback_words3 = Feedback[2].lower().split\n",
    "feedback_words4 = Feedback[3].lower().split\n",
    "feedback_words5 = Feedback[4].lower().split\n",
    "\n",
    "#Counting the occurences of a specific word\n",
    "\n",
    "word_to_count = 'excellent'\n",
    "word_count1 = feedback_words1.count(word_to_count)\n",
    "word_count2 = feedback_words2.count(word_to_count)\n",
    "word_count3 = feedback_words3.count(word_to_count)\n",
    "word_count4 = feedback_words4.count(word_to_count)\n",
    "word_count5 = feedback_words5.count(word_to_count)\n",
    "\n",
    "print(f\"Count of '{word_to_count}' in first feedback: \", word_count1)\n",
    "print(f\"Count of '{word_to_count}' in first feedback: \", word_count2)\n",
    "print(f\"Count of '{word_to_count}' in first feedback: \", word_count3)\n",
    "print(f\"Count of '{word_to_count}' in first feedback: \", word_count4)\n",
    "print(f\"Count of '{word_to_count}' in first feedback: \", word_count5)"
   ]
  }
 ],
 "metadata": {
  "kernelspec": {
   "display_name": "Python 3 (ipykernel)",
   "language": "python",
   "name": "python3"
  },
  "language_info": {
   "codemirror_mode": {
    "name": "ipython",
    "version": 3
   },
   "file_extension": ".py",
   "mimetype": "text/x-python",
   "name": "python",
   "nbconvert_exporter": "python",
   "pygments_lexer": "ipython3",
   "version": "3.10.6"
  }
 },
 "nbformat": 4,
 "nbformat_minor": 5
}
