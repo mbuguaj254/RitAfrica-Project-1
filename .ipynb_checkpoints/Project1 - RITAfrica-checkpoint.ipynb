{
 "cells": [
  {
   "cell_type": "markdown",
   "id": "c7bac449-8960-4a93-a3cb-f8aee2f16b44",
   "metadata": {},
   "source": [
    "# Project 1: Customer Feedback Management System - RITAfrica\n",
    "## By *John Mbugua*"
   ]
  },
  {
   "cell_type": "markdown",
   "id": "4fbec7df-89a7-4757-9efd-ab036dfff199",
   "metadata": {},
   "source": [
    "#### Importing libraries"
   ]
  },
  {
   "cell_type": "code",
   "execution_count": 3,
   "id": "14a255e8-6786-4fd8-8cd9-0250fc2881fa",
   "metadata": {},
   "outputs": [],
   "source": [
    "import pandas as pd\n",
    "import csv"
   ]
  },
  {
   "cell_type": "markdown",
   "id": "fd314ce6-4c29-4bc6-8097-a3152649a778",
   "metadata": {},
   "source": [
    "#### Collecting customer 1 Feedback"
   ]
  },
  {
   "cell_type": "code",
   "execution_count": 4,
   "id": "f05df114-058e-4975-bb02-79f2eb87e6f3",
   "metadata": {},
   "outputs": [
    {
     "name": "stdin",
     "output_type": "stream",
     "text": [
      "Enter the first customer's name:  Big Bucks\n",
      "Enter the first customer's rating (1-5):  5\n",
      "Enter the first customer's feedback:  This is some next level stuff!\n"
     ]
    }
   ],
   "source": [
    "customer_name1 = input(\"Enter the first customer's name: \")\n",
    "customer_rating1 = int(input(\"Enter the first customer's rating (1-5): \"))\n",
    "customer_feedback1 = input(\"Enter the first customer's feedback: \")"
   ]
  },
  {
   "cell_type": "markdown",
   "id": "2f10872f-eb88-4efc-b46f-0526af3a7191",
   "metadata": {},
   "source": [
    "##### Using this sample code, collect 5 customer data"
   ]
  },
  {
   "cell_type": "raw",
   "id": "4416c995-4d27-4307-bedc-b415a7465c8a",
   "metadata": {},
   "source": [
    "with open('customer_feecback.csv, 'w', newline='') as file:\n",
    "    writer = csv.writer(file)\n",
    "    writer.writerow([\"Name\", \"Rating\", \"Feedback\"])\n",
    "    writer.writerow([customer_name1, cusotmer_rating1, customer_feedback1])\n",
    "    writer.writerow([customer_name2, cusotmer_rating2, customer_feedback2])\n",
    "    writer.writerow([customer_name3, cusotmer_rating3, customer_feedback3])\n",
    "    writer.writerow([customer_name4, cusotmer_rating4, customer_feedback4])\n",
    "    writer.writerow([customer_name5, cusotmer_rating5, customer_feedback5])\n",
    "    "
   ]
  },
  {
   "cell_type": "markdown",
   "id": "88e331dc-1c67-4778-9571-94efde9f1840",
   "metadata": {},
   "source": [
    "##### The solution implements this using for loops and the in-built python range() function"
   ]
  },
  {
   "cell_type": "code",
   "execution_count": 12,
   "id": "879cfed3-3f9b-457b-8aa8-ffd71309f864",
   "metadata": {},
   "outputs": [
    {
     "name": "stdout",
     "output_type": "stream",
     "text": [
      "Enter information for customer 1:\n"
     ]
    },
    {
     "name": "stdin",
     "output_type": "stream",
     "text": [
      "Enter the customer 1's name:  Bob\n",
      "Enter the customer 1's rating (1-5):  5\n",
      "Enter the customer 1's feedback:  First try!\n"
     ]
    },
    {
     "name": "stdout",
     "output_type": "stream",
     "text": [
      "Enter information for customer 2:\n"
     ]
    },
    {
     "name": "stdin",
     "output_type": "stream",
     "text": [
      "Enter the customer 2's name:  Bobby\n",
      "Enter the customer 2's rating (1-5):  5\n",
      "Enter the customer 2's feedback:  I already love this!\n"
     ]
    },
    {
     "name": "stdout",
     "output_type": "stream",
     "text": [
      "Enter information for customer 3:\n"
     ]
    },
    {
     "name": "stdin",
     "output_type": "stream",
     "text": [
      "Enter the customer 3's name:  John\n",
      "Enter the customer 3's rating (1-5):  4\n",
      "Enter the customer 3's feedback:  More stuff to come!\n"
     ]
    },
    {
     "name": "stdout",
     "output_type": "stream",
     "text": [
      "Enter information for customer 4:\n"
     ]
    },
    {
     "name": "stdin",
     "output_type": "stream",
     "text": [
      "Enter the customer 4's name:  Jonte\n",
      "Enter the customer 4's rating (1-5):  4\n",
      "Enter the customer 4's feedback:  We finish what we start!\n"
     ]
    },
    {
     "name": "stdout",
     "output_type": "stream",
     "text": [
      "Enter information for customer 5:\n"
     ]
    },
    {
     "name": "stdin",
     "output_type": "stream",
     "text": [
      "Enter the customer 5's name:  Johnny\n",
      "Enter the customer 5's rating (1-5):  5\n",
      "Enter the customer 5's feedback:  Data science vs. cloud ops!\n"
     ]
    },
    {
     "name": "stdout",
     "output_type": "stream",
     "text": [
      "\n",
      "Customer 1:\n",
      "Name: Bob\n",
      "Rating: 5\n",
      "Feedback: First try!\n",
      "\n",
      "Customer 2:\n",
      "Name: Bobby\n",
      "Rating: 5\n",
      "Feedback: I already love this!\n",
      "\n",
      "Customer 3:\n",
      "Name: John\n",
      "Rating: 4\n",
      "Feedback: More stuff to come!\n",
      "\n",
      "Customer 4:\n",
      "Name: Jonte\n",
      "Rating: 4\n",
      "Feedback: We finish what we start!\n",
      "\n",
      "Customer 5:\n",
      "Name: Johnny\n",
      "Rating: 5\n",
      "Feedback: Data science vs. cloud ops!\n"
     ]
    }
   ],
   "source": [
    "def get_customer_info(customer_number):\n",
    "    print(f\"Enter information for customer {customer_number}:\")\n",
    "    \n",
    "    customer_name = input(f\"Enter the customer {customer_number}'s name: \")\n",
    "    \n",
    "    while True:\n",
    "        try:\n",
    "            customer_rating = int(input(f\"Enter the customer {customer_number}'s rating (1-5): \"))\n",
    "            if 1 <= customer_rating <= 5:\n",
    "                break\n",
    "            else:\n",
    "                print(\"Rating must be between 1 and 5.\")\n",
    "        except ValueError:\n",
    "            print(\"Please enter a valid integer for the rating.\")\n",
    "    \n",
    "    customer_feedback = input(f\"Enter the customer {customer_number}'s feedback: \")\n",
    "    \n",
    "    return customer_name, customer_rating, customer_feedback\n",
    "\n",
    "customers = []\n",
    "\n",
    "for i in range(1, 6):\n",
    "    customer_info = get_customer_info(i)\n",
    "    customers.append(customer_info)\n",
    "\n",
    "for i, customer in enumerate(customers, start=1):\n",
    "    print(f\"\\nCustomer {i}:\")\n",
    "    print(\"Name:\", customer[0])\n",
    "    print(\"Rating:\", customer[1])\n",
    "    print(\"Feedback:\", customer[2])\n"
   ]
  },
  {
   "cell_type": "code",
   "execution_count": 13,
   "id": "d9ff93b1-df69-4d0d-b125-fe7421221744",
   "metadata": {},
   "outputs": [
    {
     "name": "stdout",
     "output_type": "stream",
     "text": [
      "Enter information for customer 1:\n"
     ]
    },
    {
     "name": "stdin",
     "output_type": "stream",
     "text": [
      "Enter the customer 1's name:  Bob\n",
      "Enter the customer 1's rating (1-5):  5\n",
      "Enter the customer 1's feedback:  First try!\n"
     ]
    },
    {
     "name": "stdout",
     "output_type": "stream",
     "text": [
      "Enter information for customer 2:\n"
     ]
    },
    {
     "name": "stdin",
     "output_type": "stream",
     "text": [
      "Enter the customer 2's name:  Bobby\n",
      "Enter the customer 2's rating (1-5):  5\n",
      "Enter the customer 2's feedback:  I already love this!\n"
     ]
    },
    {
     "name": "stdout",
     "output_type": "stream",
     "text": [
      "Enter information for customer 3:\n"
     ]
    },
    {
     "name": "stdin",
     "output_type": "stream",
     "text": [
      "Enter the customer 3's name:  John\n",
      "Enter the customer 3's rating (1-5):  5\n",
      "Enter the customer 3's feedback:  More stuff to come!\n"
     ]
    },
    {
     "name": "stdout",
     "output_type": "stream",
     "text": [
      "Enter information for customer 4:\n"
     ]
    },
    {
     "name": "stdin",
     "output_type": "stream",
     "text": [
      "Enter the customer 4's name:  Jonte\n",
      "Enter the customer 4's rating (1-5):  4\n",
      "Enter the customer 4's feedback:  We finish what we start!\n"
     ]
    },
    {
     "name": "stdout",
     "output_type": "stream",
     "text": [
      "Enter information for customer 5:\n"
     ]
    },
    {
     "name": "stdin",
     "output_type": "stream",
     "text": [
      "Enter the customer 5's name:  Johnny\n",
      "Enter the customer 5's rating (1-5):  4\n",
      "Enter the customer 5's feedback:  Data science vs. cloud ops!\n"
     ]
    },
    {
     "name": "stdout",
     "output_type": "stream",
     "text": [
      "Customer feedback has been saved to 'customer_feedback.csv'\n",
      "\n",
      "Customer 1:\n",
      "Name: Bob\n",
      "Rating: 5\n",
      "Feedback: First try!\n",
      "\n",
      "Customer 2:\n",
      "Name: Bobby\n",
      "Rating: 5\n",
      "Feedback: I already love this!\n",
      "\n",
      "Customer 3:\n",
      "Name: John\n",
      "Rating: 5\n",
      "Feedback: More stuff to come!\n",
      "\n",
      "Customer 4:\n",
      "Name: Jonte\n",
      "Rating: 4\n",
      "Feedback: We finish what we start!\n",
      "\n",
      "Customer 5:\n",
      "Name: Johnny\n",
      "Rating: 4\n",
      "Feedback: Data science vs. cloud ops!\n"
     ]
    }
   ],
   "source": [
    "import csv\n",
    "\n",
    "def get_customer_info(customer_number):\n",
    "    print(f\"Enter information for customer {customer_number}:\")\n",
    "    \n",
    "    customer_name = input(f\"Enter the customer {customer_number}'s name: \")\n",
    "    \n",
    "    while True:\n",
    "        try:\n",
    "            customer_rating = int(input(f\"Enter the customer {customer_number}'s rating (1-5): \"))\n",
    "            if 1 <= customer_rating <= 5:\n",
    "                break\n",
    "            else:\n",
    "                print(\"Rating must be between 1 and 5.\")\n",
    "        except ValueError:\n",
    "            print(\"Please enter a valid integer for the rating.\")\n",
    "    \n",
    "    customer_feedback = input(f\"Enter the customer {customer_number}'s feedback: \")\n",
    "    \n",
    "    return customer_name, customer_rating, customer_feedback\n",
    "\n",
    "customers = []\n",
    "\n",
    "for i in range(1, 6):\n",
    "    customer_info = get_customer_info(i)\n",
    "    customers.append(customer_info)\n",
    "\n",
    "with open('customer_feedback.csv', mode='w', newline='') as file:\n",
    "    writer = csv.writer(file)\n",
    "    writer.writerow([\"Customer Name\", \"Customer Rating\", \"Customer Feedback\"])\n",
    "    writer.writerows(customers)\n",
    "\n",
    "print(\"Customer feedback has been saved to 'customer_feedback.csv'\")\n",
    "\n",
    "# Print out the collected information\n",
    "for i, customer in enumerate(customers, start=1):\n",
    "    print(f\"\\nCustomer {i}:\")\n",
    "    print(\"Name:\", customer[0])\n",
    "    print(\"Rating:\", customer[1])\n",
    "    print(\"Feedback:\", customer[2])\n"
   ]
  },
  {
   "cell_type": "markdown",
   "id": "6ca13fac-231c-447f-8c20-7245ba43a244",
   "metadata": {},
   "source": [
    "### Reading the data with Pandas Library"
   ]
  },
  {
   "cell_type": "code",
   "execution_count": 14,
   "id": "dc4160ea-92d5-4137-9fb1-098a24a98456",
   "metadata": {},
   "outputs": [
    {
     "name": "stdout",
     "output_type": "stream",
     "text": [
      "  Customer Name  Customer Rating            Customer Feedback\n",
      "0           Bob                5                   First try!\n",
      "1         Bobby                5         I already love this!\n",
      "2          John                5          More stuff to come!\n",
      "3         Jonte                4     We finish what we start!\n",
      "4        Johnny                4  Data science vs. cloud ops!\n"
     ]
    }
   ],
   "source": [
    "df = pd.read_csv('customer_feedback.csv')\n",
    "\n",
    "print(df)"
   ]
  },
  {
   "cell_type": "markdown",
   "id": "8d061dc7-93db-4574-8b23-3a1bdbf6f682",
   "metadata": {},
   "source": [
    "Now, display the first few rows and the info of the data:"
   ]
  },
  {
   "cell_type": "code",
   "execution_count": 16,
   "id": "3923a03a-199e-4fdf-86f7-bdbaea253573",
   "metadata": {},
   "outputs": [
    {
     "name": "stdout",
     "output_type": "stream",
     "text": [
      "  Customer Name  Customer Rating            Customer Feedback\n",
      "0           Bob                5                   First try!\n",
      "1         Bobby                5         I already love this!\n",
      "2          John                5          More stuff to come!\n",
      "3         Jonte                4     We finish what we start!\n",
      "4        Johnny                4  Data science vs. cloud ops!\n",
      "<class 'pandas.core.frame.DataFrame'>\n",
      "RangeIndex: 5 entries, 0 to 4\n",
      "Data columns (total 3 columns):\n",
      " #   Column             Non-Null Count  Dtype \n",
      "---  ------             --------------  ----- \n",
      " 0   Customer Name      5 non-null      object\n",
      " 1   Customer Rating    5 non-null      int64 \n",
      " 2   Customer Feedback  5 non-null      object\n",
      "dtypes: int64(1), object(2)\n",
      "memory usage: 248.0+ bytes\n",
      "None\n"
     ]
    }
   ],
   "source": [
    "print(df.head())\n",
    "\n",
    "print(df.info())"
   ]
  },
  {
   "cell_type": "markdown",
   "id": "ccad6590-2cde-4e32-93a0-48d904bc4ecf",
   "metadata": {},
   "source": [
    "#### Performing basic data analysis"
   ]
  },
  {
   "cell_type": "code",
   "execution_count": 18,
   "id": "a0d602c1-a980-4ff0-b797-920005e83864",
   "metadata": {},
   "outputs": [
    {
     "name": "stdout",
     "output_type": "stream",
     "text": [
      "Average Rating: 4.6\n"
     ]
    }
   ],
   "source": [
    "total_ratings = df['Customer Rating'].sum()\n",
    "average_rating = total_ratings / len(df)\n",
    "print(\"Average Rating:\", average_rating)"
   ]
  }
 ],
 "metadata": {
  "kernelspec": {
   "display_name": "Python 3 (ipykernel)",
   "language": "python",
   "name": "python3"
  },
  "language_info": {
   "codemirror_mode": {
    "name": "ipython",
    "version": 3
   },
   "file_extension": ".py",
   "mimetype": "text/x-python",
   "name": "python",
   "nbconvert_exporter": "python",
   "pygments_lexer": "ipython3",
   "version": "3.10.6"
  }
 },
 "nbformat": 4,
 "nbformat_minor": 5
}
